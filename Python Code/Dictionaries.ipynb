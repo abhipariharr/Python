{
 "cells": [
  {
   "cell_type": "code",
   "execution_count": 5,
   "id": "9f312e4c",
   "metadata": {},
   "outputs": [
    {
     "name": "stdout",
     "output_type": "stream",
     "text": [
      "<class 'dict'>\n"
     ]
    }
   ],
   "source": [
    "#creating dictiories\n",
    "dict = {}\n",
    "print(type(dict))"
   ]
  },
  {
   "cell_type": "code",
   "execution_count": 9,
   "id": "7974785d",
   "metadata": {},
   "outputs": [
    {
     "name": "stdout",
     "output_type": "stream",
     "text": [
      "{'name': 'Abhishek', 'age': 22, 'Grade': 24}\n",
      "<class 'dict'>\n"
     ]
    }
   ],
   "source": [
    "student = {\"name\" : \"Abhishek\", \"age\" : 22, \"Grade\" : 24}\n",
    "print(student)\n",
    "print(type(student))"
   ]
  },
  {
   "cell_type": "code",
   "execution_count": null,
   "id": "876bede0",
   "metadata": {},
   "outputs": [
    {
     "name": "stdout",
     "output_type": "stream",
     "text": [
      "{'name': 24, 'age': 22}\n"
     ]
    }
   ],
   "source": [
    "#Error\n",
    "student = {\"name\" : \"Abhishek\", \"age\" : 22, \"name\" : 24}\n",
    "print(student)\n",
    "#only single key is always used"
   ]
  },
  {
   "cell_type": "code",
   "execution_count": 3,
   "id": "721510c0",
   "metadata": {},
   "outputs": [
    {
     "name": "stdout",
     "output_type": "stream",
     "text": [
      "A\n",
      "A\n",
      "None\n",
      "Not Available\n"
     ]
    }
   ],
   "source": [
    "#Accessing Dictionary Elements\n",
    "student = {\"name\" : \"Abhishek\", \"age\" : 22, \"Grade\" : \"A\"}\n",
    "print(student['Grade'])\n",
    "\n",
    "#Accessing Dictiorany elements by get()\n",
    "print(student.get('Grade'))\n",
    "print(student.get('Last_name')) # Last_name is not the key\n",
    "print(student.get('Last_name', \"Not Available\"))"
   ]
  },
  {
   "cell_type": "code",
   "execution_count": null,
   "id": "65f43c53",
   "metadata": {},
   "outputs": [
    {
     "name": "stdout",
     "output_type": "stream",
     "text": [
      "{'name': 'Abhishek', 'age': 22, 'Grade': 'A+', 'Address': 'Pune'}\n",
      "{'name': 'Abhishek', 'age': 22, 'Grade': 'A+', 'Address': 'Pune'}\n",
      "{'name': 'Abhishek', 'age': 22, 'Grade': 'A+', 'Address': 'Pune'}\n",
      "{'name': 'Abhishek', 'age': 22, 'Address': 'Pune'}\n"
     ]
    }
   ],
   "source": [
    " #Modifying the Dictionary Elements because Dictionary is Mutable\n",
    "print(student)\n",
    "student['Grade'] = \"A+\"  #Updated the Value\n",
    "print(student) # Modified Dictionary\n",
    "\n",
    "student[\"Address\"] = \"Pune\" #Adding new Key\n",
    "print(student)\n",
    "\n",
    "del student['Grade'] #Delete the Key Value Pair\n",
    "print(student)"
   ]
  },
  {
   "cell_type": "code",
   "execution_count": null,
   "id": "df21ba9a",
   "metadata": {},
   "outputs": [
    {
     "name": "stdout",
     "output_type": "stream",
     "text": [
      "dict_keys(['name', 'age', 'Address'])\n",
      "dict_values(['Abhishek', 22, 'Pune'])\n",
      "dict_items([('name', 'Abhishek'), ('age', 22), ('Address', 'Pune')])\n"
     ]
    }
   ],
   "source": [
    "##Dictionary Methods\n",
    "Keys = student.keys() ## get all the keys\n",
    "## 'Keys'  is a variable\n",
    "print(Keys)\n",
    "Value = student.values() ## get all the values\n",
    "print(Value)\n",
    "\n",
    "items = student.items() ## get all the key-Value Pairs\n",
    "print(items)"
   ]
  },
  {
   "cell_type": "code",
   "execution_count": null,
   "id": "3add0145",
   "metadata": {},
   "outputs": [
    {
     "name": "stdout",
     "output_type": "stream",
     "text": [
      "{'name': 'Abhi', 'age': 22, 'Address': 'Pune'}\n",
      "{'name': 'Abhi', 'age': 22, 'Address': 'Pune'}\n"
     ]
    }
   ],
   "source": [
    "#Shallow copy \n",
    "student_copy = student\n",
    "print(student)\n",
    "print(student_copy)\n",
    "##Not a shallow copy"
   ]
  },
  {
   "cell_type": "code",
   "execution_count": 14,
   "id": "7a10d391",
   "metadata": {},
   "outputs": [
    {
     "name": "stdout",
     "output_type": "stream",
     "text": [
      "{'name': 'Abhi', 'age': 22, 'Address': 'Pune'}\n",
      "{'name': 'Abhi', 'age': 22, 'Address': 'Pune'}\n"
     ]
    }
   ],
   "source": [
    "student['name'] = \"Abhi\"\n",
    "print(student)\n",
    "print(student_copy)"
   ]
  },
  {
   "cell_type": "code",
   "execution_count": 16,
   "id": "713c74b3",
   "metadata": {},
   "outputs": [
    {
     "name": "stdout",
     "output_type": "stream",
     "text": [
      "{'name': 'Abhi', 'age': 22, 'Address': 'Pune'}\n",
      "{'name': 'Abhi', 'age': 22, 'Address': 'Pune'}\n",
      "{'name': 'Abhishek', 'age': 22, 'Address': 'Pune'}\n",
      "{'name': 'Abhishek', 'age': 22, 'Address': 'Pune'}\n",
      "{'name': 'Abhi', 'age': 22, 'Address': 'Pune'}\n"
     ]
    }
   ],
   "source": [
    "#Shallow copy (A shallow copy means making a new object, but instead of fully copying the nested objects inside it, it only copies their references (addresses).)\n",
    "student_copy1 = student.copy()\n",
    "print(student)\n",
    "print(student_copy1)\n",
    "\n",
    "student['name'] = \"Abhishek\"\n",
    "print(student)\n",
    "print(student_copy)\n",
    "print(student_copy1)"
   ]
  },
  {
   "cell_type": "code",
   "execution_count": 20,
   "id": "b0eaad9d",
   "metadata": {},
   "outputs": [
    {
     "name": "stdout",
     "output_type": "stream",
     "text": [
      "name\n",
      "age\n",
      "Address\n",
      "Abhishek\n",
      "22\n",
      "Pune\n",
      "('name', 'Abhishek')\n",
      "('age', 22)\n",
      "('Address', 'Pune')\n",
      "name:Abhishek\n",
      "age:22\n",
      "Address:Pune\n"
     ]
    }
   ],
   "source": [
    "##Iterating over Dictionaries\n",
    "##Use loops to iterate over the dictionaries, key, values and items(Key-Value pair).\n",
    "\n",
    "##iterating over keys\n",
    "for keys in student.keys():\n",
    "    print(keys)\n",
    "\n",
    "for values in student.values():\n",
    "    print(values)\n",
    "\n",
    "for items in student.items():\n",
    "    print(items)\n",
    "\n",
    "for keys, values in student.items():\n",
    "    print(f\"{keys}:{values}\")"
   ]
  },
  {
   "cell_type": "code",
   "execution_count": 25,
   "id": "4e7f1539",
   "metadata": {},
   "outputs": [
    {
     "name": "stdout",
     "output_type": "stream",
     "text": [
      "Abhishek Parihar\n",
      "21\n"
     ]
    }
   ],
   "source": [
    "#Nested Dictionary (Dictionary under Dictionary)\n",
    "\n",
    "info = {\n",
    "    \"info1\": {\"Name\":\"Abhishek Parihar\", \"Age\": 21},\n",
    "    \"info2\": {\"Name\":\"SpiderMan\", \"Age\" : 28}\n",
    "}\n",
    "print(info[\"info1\"][\"Name\"])\n",
    "print(info[\"info1\"][\"Age\"])"
   ]
  },
  {
   "cell_type": "code",
   "execution_count": 26,
   "id": "eb37ac7f",
   "metadata": {},
   "outputs": [
    {
     "data": {
      "text/plain": [
       "dict_items([('name', 'Abhishek'), ('age', 22), ('Address', 'Pune')])"
      ]
     },
     "execution_count": 26,
     "metadata": {},
     "output_type": "execute_result"
    }
   ],
   "source": [
    "student.items()"
   ]
  },
  {
   "cell_type": "code",
   "execution_count": 28,
   "id": "8a367a13",
   "metadata": {},
   "outputs": [
    {
     "name": "stdout",
     "output_type": "stream",
     "text": [
      "info1 : {'Name': 'Abhishek Parihar', 'Age': 21}\n",
      "Name:Abhishek Parihar\n",
      "Age:21\n",
      "info2 : {'Name': 'SpiderMan', 'Age': 28}\n",
      "Name:SpiderMan\n",
      "Age:28\n"
     ]
    }
   ],
   "source": [
    "##Iterating over Nested Dictionaries\n",
    "for student_id,student_info in info.items():\n",
    "    print(f\"{student_id} : {student_info}\")\n",
    "    for key, value in student_info.items():\n",
    "        print(f\"{key}:{value}\")"
   ]
  },
  {
   "cell_type": "code",
   "execution_count": 31,
   "id": "331bde56",
   "metadata": {},
   "outputs": [
    {
     "name": "stdout",
     "output_type": "stream",
     "text": [
      "{0: 0, 1: 1, 2: 4, 3: 9, 4: 16}\n",
      "{0: 0, 2: 4, 4: 16, 6: 36, 8: 64}\n"
     ]
    }
   ],
   "source": [
    "##Dictionary Comprehension\n",
    "square = {x:x**2 for x in range(5)}\n",
    "print(square)\n",
    "\n",
    "even = {x: x**2 for x in range(10) if x%2 == 0}\n",
    "print(even)"
   ]
  },
  {
   "cell_type": "code",
   "execution_count": 32,
   "id": "0a41a5bb",
   "metadata": {},
   "outputs": [
    {
     "name": "stdout",
     "output_type": "stream",
     "text": [
      "{1: 2, 2: 4, 3: 1, 5: 2, 6: 2, 4: 3}\n"
     ]
    }
   ],
   "source": [
    "##Count the frequency of elements in list\n",
    "numbers = [1,1,2,2,2,2,3,5,6,4,4,4,5,6]\n",
    "frequency = {}\n",
    "\n",
    "for number in numbers:\n",
    "    if number in frequency:\n",
    "        frequency[number] += 1\n",
    "    else:\n",
    "        frequency[number] = 1\n",
    "print(frequency)"
   ]
  },
  {
   "cell_type": "code",
   "execution_count": 34,
   "id": "e6ec0bfe",
   "metadata": {},
   "outputs": [
    {
     "name": "stdout",
     "output_type": "stream",
     "text": [
      "{'a': 1, 'b': 2, 'c': 3, 'd': 4}\n"
     ]
    }
   ],
   "source": [
    "##Merge Two dictionaries\n",
    "dict1 = {\"a\" : 1, \"b\" : 2}\n",
    "dict2 = {\"c\": 3, \"d\" : 4}\n",
    "\n",
    "merged = {**dict1, **dict2} #** keyword argument\n",
    "print(merged)"
   ]
  },
  {
   "cell_type": "code",
   "execution_count": null,
   "id": "1687d424",
   "metadata": {},
   "outputs": [],
   "source": []
  }
 ],
 "metadata": {
  "kernelspec": {
   "display_name": "Python 3",
   "language": "python",
   "name": "python3"
  },
  "language_info": {
   "codemirror_mode": {
    "name": "ipython",
    "version": 3
   },
   "file_extension": ".py",
   "mimetype": "text/x-python",
   "name": "python",
   "nbconvert_exporter": "python",
   "pygments_lexer": "ipython3",
   "version": "3.13.5"
  }
 },
 "nbformat": 4,
 "nbformat_minor": 5
}
