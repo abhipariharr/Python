{
 "cells": [
  {
   "cell_type": "markdown",
   "id": "6b96be54",
   "metadata": {},
   "source": [
    "# Map() function\n",
    " The map() function applies to given function to all items in an in(or any other iterable) and return a map object (an iterator). This is perticularly useful for trasforming data in a list comprehensively."
   ]
  },
  {
   "cell_type": "code",
   "execution_count": 5,
   "id": "88c303dc",
   "metadata": {},
   "outputs": [
    {
     "data": {
      "text/plain": [
       "100"
      ]
     },
     "execution_count": 5,
     "metadata": {},
     "output_type": "execute_result"
    }
   ],
   "source": [
    "def square(x):\n",
    "    return x*x\n",
    "square(10)"
   ]
  },
  {
   "cell_type": "code",
   "execution_count": 6,
   "id": "7a2e7bd5",
   "metadata": {},
   "outputs": [
    {
     "data": {
      "text/plain": [
       "[1, 4, 9, 16, 25, 36, 49]"
      ]
     },
     "execution_count": 6,
     "metadata": {},
     "output_type": "execute_result"
    }
   ],
   "source": [
    "## Map function\n",
    "numbers = [1,2,3,4,5,6,7]\n",
    "list(map(square, numbers))"
   ]
  },
  {
   "cell_type": "code",
   "execution_count": 7,
   "id": "60cff38f",
   "metadata": {},
   "outputs": [
    {
     "data": {
      "text/plain": [
       "[1, 4, 9, 16, 25]"
      ]
     },
     "execution_count": 7,
     "metadata": {},
     "output_type": "execute_result"
    }
   ],
   "source": [
    "## Lambda Function with map\n",
    "number = [1,2,3,4,5]\n",
    "\n",
    "list(map(lambda x:x*x, number))"
   ]
  },
  {
   "cell_type": "code",
   "execution_count": null,
   "id": "d13bc50f",
   "metadata": {},
   "outputs": [],
   "source": []
  }
 ],
 "metadata": {
  "kernelspec": {
   "display_name": "Python 3",
   "language": "python",
   "name": "python3"
  },
  "language_info": {
   "codemirror_mode": {
    "name": "ipython",
    "version": 3
   },
   "file_extension": ".py",
   "mimetype": "text/x-python",
   "name": "python",
   "nbconvert_exporter": "python",
   "pygments_lexer": "ipython3",
   "version": "3.13.5"
  }
 },
 "nbformat": 4,
 "nbformat_minor": 5
}
