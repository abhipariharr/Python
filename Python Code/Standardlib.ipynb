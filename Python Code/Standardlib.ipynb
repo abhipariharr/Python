{
 "cells": [
  {
   "cell_type": "code",
   "execution_count": 1,
   "id": "d1da88da",
   "metadata": {},
   "outputs": [
    {
     "name": "stdout",
     "output_type": "stream",
     "text": [
      "array('i', [1, 2, 3, 4])\n"
     ]
    }
   ],
   "source": [
    "import array\n",
    "arr = array .array('i',[1,2,3,4])\n",
    "print(arr)"
   ]
  },
  {
   "cell_type": "code",
   "execution_count": 6,
   "id": "ca7fa6fa",
   "metadata": {},
   "outputs": [
    {
     "name": "stdout",
     "output_type": "stream",
     "text": [
      "3.141592653589793\n",
      "4.0\n"
     ]
    }
   ],
   "source": [
    "import math\n",
    "print(math.pi)\n",
    "print(math.sqrt(16))"
   ]
  },
  {
   "cell_type": "code",
   "execution_count": 8,
   "id": "99203782",
   "metadata": {},
   "outputs": [
    {
     "name": "stdout",
     "output_type": "stream",
     "text": [
      "15\n",
      "apple\n"
     ]
    }
   ],
   "source": [
    "##Random\n",
    "import random\n",
    "print(random.randint(1, 100))\n",
    "print(random.choice(['apple','banana','mango']))"
   ]
  },
  {
   "cell_type": "code",
   "execution_count": 9,
   "id": "f6bba362",
   "metadata": {},
   "outputs": [
    {
     "name": "stdout",
     "output_type": "stream",
     "text": [
      "c:\\Users\\abhin\\OneDrive\\Desktop\\Programs\\Data Analyst\\Python\\Modules\n"
     ]
    }
   ],
   "source": [
    "## File and Directory Access\n",
    "import os\n",
    "print(os.getcwd()) #get current working directory"
   ]
  },
  {
   "cell_type": "code",
   "execution_count": null,
   "id": "de958989",
   "metadata": {},
   "outputs": [
    {
     "data": {
      "text/plain": [
       "'Destination.txt'"
      ]
     },
     "execution_count": 10,
     "metadata": {},
     "output_type": "execute_result"
    }
   ],
   "source": [
    "import shutil\n",
    "shutil.copyfile('source.txt', 'Destination.txt')  "
   ]
  },
  {
   "cell_type": "code",
   "execution_count": 4,
   "id": "77016c9f",
   "metadata": {},
   "outputs": [
    {
     "name": "stdout",
     "output_type": "stream",
     "text": [
      "{\"name\": \"Abhi\", \"age\": 23}\n",
      "<class 'str'>\n",
      "{'name': 'Abhi', 'age': 23}\n",
      "<class 'dict'>\n"
     ]
    }
   ],
   "source": [
    "#Data serializatization\n",
    "##conerting a Dictionary into JSON \n",
    "import json\n",
    "data = {'name' : 'Abhi', 'age': 23}\n",
    "\n",
    "json_str = json.dumps(data)\n",
    "print(json_str) ##file will be in string format\n",
    "print(type(json_str))\n",
    "\n",
    "parsed_data = json.loads(json_str) ##converted into dictionary\n",
    "print(parsed_data) \n",
    "print(type(parsed_data))"
   ]
  },
  {
   "cell_type": "code",
   "execution_count": 6,
   "id": "c3cc489d",
   "metadata": {},
   "outputs": [
    {
     "name": "stdout",
     "output_type": "stream",
     "text": [
      "['name', 'age']\n",
      "['Abhi', '21']\n"
     ]
    }
   ],
   "source": [
    "##CSV\n",
    "\n",
    "import csv\n",
    "\n",
    "with open('example.csv', mode = 'w', newline = '') as file:\n",
    "    writer = csv.writer(file)\n",
    "    writer.writerow(['name', 'age'])\n",
    "    writer.writerow(['Abhi', 21])\n",
    "\n",
    "with open('example.csv', mode = 'r') as file:\n",
    "    reader = csv.reader(file)\n",
    "    for row in reader:\n",
    "        print(row)"
   ]
  },
  {
   "cell_type": "code",
   "execution_count": 11,
   "id": "90c388ba",
   "metadata": {},
   "outputs": [
    {
     "name": "stdout",
     "output_type": "stream",
     "text": [
      "2025-08-28 21:32:03.551836\n",
      "<class 'datetime.datetime'>\n",
      "2025-08-27 21:32:03.551836\n",
      "2025-08-29 21:32:03.551836\n"
     ]
    }
   ],
   "source": [
    "##datetime\n",
    "\n",
    "from datetime import datetime,timedelta\n",
    "now = datetime.now()\n",
    "print(now)\n",
    "print(type(now))\n",
    "\n",
    "yesterday = now-timedelta(days = 1)\n",
    "print(yesterday)\n",
    "\n",
    "tomorrow = now+timedelta(days = 1)\n",
    "print(tomorrow)"
   ]
  },
  {
   "cell_type": "code",
   "execution_count": null,
   "id": "26dc39f8",
   "metadata": {},
   "outputs": [
    {
     "name": "stdout",
     "output_type": "stream",
     "text": [
      "1756396996.103242\n",
      "1756396998.1049635\n"
     ]
    }
   ],
   "source": [
    "##time\n",
    "\n",
    "import time\n",
    "print(time.time())\n",
    "time.sleep(2)  ##program to sleep for 2 second\n",
    "print(time.time())"
   ]
  },
  {
   "cell_type": "code",
   "execution_count": 14,
   "id": "cc53fd2d",
   "metadata": {},
   "outputs": [
    {
     "name": "stdout",
     "output_type": "stream",
     "text": [
      "20\n"
     ]
    }
   ],
   "source": [
    "##Regular expression\n",
    "import re\n",
    "###helps to match specific expression in a top of a sentence. you can do it on entire data and do many things.\n",
    "\n",
    "pattern = r'\\d+' ## d is digits. \n",
    "text =  'There are 20 apple and 10 more'\n",
    "match = re.search(pattern, text)\n",
    "print(match.group())"
   ]
  },
  {
   "cell_type": "code",
   "execution_count": null,
   "id": "4c8641e3",
   "metadata": {},
   "outputs": [],
   "source": []
  }
 ],
 "metadata": {
  "kernelspec": {
   "display_name": "Python 3",
   "language": "python",
   "name": "python3"
  },
  "language_info": {
   "codemirror_mode": {
    "name": "ipython",
    "version": 3
   },
   "file_extension": ".py",
   "mimetype": "text/x-python",
   "name": "python",
   "nbconvert_exporter": "python",
   "pygments_lexer": "ipython3",
   "version": "3.13.5"
  }
 },
 "nbformat": 4,
 "nbformat_minor": 5
}
