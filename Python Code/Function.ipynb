{
 "cells": [
  {
   "cell_type": "markdown",
   "id": "c815ebb2",
   "metadata": {},
   "source": [
    "## Function\n",
    "### Definition\n",
    "\n",
    "A function is a block of code that performs a specific task. Functions help in organizing, reusing code, and improving readability.\n"
   ]
  },
  {
   "cell_type": "code",
   "execution_count": null,
   "id": "48feb0b5",
   "metadata": {},
   "outputs": [],
   "source": [
    "###Function Syntaax\n",
    "def function_name(parameters):\n",
    "    \"\"\"DocString\"\"\"\n",
    "    #function Body\n",
    "    return expression"
   ]
  },
  {
   "cell_type": "code",
   "execution_count": 3,
   "id": "e4f603b8",
   "metadata": {},
   "outputs": [
    {
     "name": "stdout",
     "output_type": "stream",
     "text": [
      "Hello Abhishek Parihar, to the Restaurant.\n"
     ]
    }
   ],
   "source": [
    "##Default Parameter\n",
    "def greet(name):\n",
    "    print(f\"Hello {name}, to the Restaurant.\")\n",
    "\n",
    "greet(\"Abhishek Parihar\")"
   ]
  },
  {
   "cell_type": "code",
   "execution_count": 5,
   "id": "cc16f545",
   "metadata": {},
   "outputs": [
    {
     "name": "stdout",
     "output_type": "stream",
     "text": [
      "Hello Sir/Mam, to the Restaurant.\n"
     ]
    }
   ],
   "source": [
    "##Default Parameter2\n",
    "def greet(name = \"Sir/Mam\"):\n",
    "    print(f\"Hello {name}, to the Restaurant.\")\n",
    "\n",
    "greet()"
   ]
  },
  {
   "cell_type": "markdown",
   "id": "fae17af7",
   "metadata": {},
   "source": [
    "## Variable Length Argument"
   ]
  },
  {
   "cell_type": "markdown",
   "id": "863c2f28",
   "metadata": {},
   "source": [
    "### a. Arbitory Positional argument(*args)"
   ]
  },
  {
   "cell_type": "code",
   "execution_count": null,
   "id": "fee20d64",
   "metadata": {},
   "outputs": [
    {
     "name": "stdout",
     "output_type": "stream",
     "text": [
      "2\n",
      "3\n",
      "4\n",
      "5\n",
      "6\n",
      "7\n",
      "Abhishek\n"
     ]
    }
   ],
   "source": [
    "def number(*args):\n",
    "    for num in args:\n",
    "        print(num)\n",
    "number(2,3,4,5,6,7,\"Abhishek\")\n",
    "\n",
    "#number() takes 1 positional argument that's why we used *args "
   ]
  },
  {
   "cell_type": "markdown",
   "id": "c5499c0f",
   "metadata": {},
   "source": [
    "### b. Arbitory Keyword Argument(**Kwargs)"
   ]
  },
  {
   "cell_type": "code",
   "execution_count": 21,
   "id": "e85655cb",
   "metadata": {},
   "outputs": [
    {
     "name": "stdout",
     "output_type": "stream",
     "text": [
      "Name:Abhishek\n",
      "Course:MCA\n"
     ]
    }
   ],
   "source": [
    "#Without **Kwargs\n",
    "def detail(kwargs):\n",
    "    for key,value in kwargs.items():\n",
    "        print(f\"{key}:{value}\")\n",
    "\n",
    "detail({\"Name\":\"Abhishek\" , \"Course\": \"MCA\"})"
   ]
  },
  {
   "cell_type": "code",
   "execution_count": 22,
   "id": "40884fa5",
   "metadata": {},
   "outputs": [
    {
     "name": "stdout",
     "output_type": "stream",
     "text": [
      "Name: Abhishek\n",
      "Course: MCA\n"
     ]
    }
   ],
   "source": [
    "## With **Kwargs\n",
    "def info(**kwargs):\n",
    "    for key, value in kwargs.items():\n",
    "        print(f\"{key}: {value}\")\n",
    "\n",
    "info(Name = \"Abhishek\", Course = \"MCA\")"
   ]
  },
  {
   "cell_type": "code",
   "execution_count": null,
   "id": "1fb2a2f9",
   "metadata": {},
   "outputs": [],
   "source": [
    "# Core difference:\n",
    "# Without **kwargs: You pass a dictionary manually.\n",
    "# With **kwargs: Python builds that dictionary for you from the keywords."
   ]
  },
  {
   "cell_type": "markdown",
   "id": "9681ae6b",
   "metadata": {},
   "source": [
    "### Function with *args and **kwargs"
   ]
  },
  {
   "cell_type": "code",
   "execution_count": 23,
   "id": "62dc5573",
   "metadata": {},
   "outputs": [
    {
     "name": "stdout",
     "output_type": "stream",
     "text": [
      "Positional arguments: 1\n",
      "Positional arguments: 2\n",
      "Positional arguments: 3\n",
      "Positional arguments: 4\n",
      "Keyword Argument:\n",
      "Name: Abhishek\n",
      "Keyword Argument:\n",
      "Course: MCA\n"
     ]
    }
   ],
   "source": [
    "def detail_info(*args, **kwargs):\n",
    "    for val in args:\n",
    "        print(f\"Positional arguments: {val}\")\n",
    "    \n",
    "    for key, value in kwargs.items():\n",
    "        print(\"Keyword Argument:\")\n",
    "        print(f\"{key}: {value}\")\n",
    "\n",
    "detail_info(1,2,3,4, Name = \"Abhishek\", Course = \"MCA\")"
   ]
  },
  {
   "cell_type": "markdown",
   "id": "7de4f2ad",
   "metadata": {},
   "source": [
    "### Return Statement"
   ]
  },
  {
   "cell_type": "code",
   "execution_count": 25,
   "id": "62bd2336",
   "metadata": {},
   "outputs": [
    {
     "data": {
      "text/plain": [
       "6"
      ]
     },
     "execution_count": 25,
     "metadata": {},
     "output_type": "execute_result"
    }
   ],
   "source": [
    "def multiply(a,b):\n",
    "    return a*b\n",
    "multiply(2,3)"
   ]
  },
  {
   "cell_type": "code",
   "execution_count": 26,
   "id": "b4b6cc7f",
   "metadata": {},
   "outputs": [
    {
     "data": {
      "text/plain": [
       "(6, 2)"
      ]
     },
     "execution_count": 26,
     "metadata": {},
     "output_type": "execute_result"
    }
   ],
   "source": [
    "##Return Multiple\n",
    "def multiply(a,b):\n",
    "    return a*b,a\n",
    "multiply(2,3)"
   ]
  },
  {
   "cell_type": "markdown",
   "id": "f3db869a",
   "metadata": {},
   "source": [
    "## Question 1. Temperature Conversion"
   ]
  },
  {
   "cell_type": "code",
   "execution_count": null,
   "id": "35c6c559",
   "metadata": {},
   "outputs": [
    {
     "data": {
      "text/plain": [
       "-3.888888888888889"
      ]
     },
     "execution_count": 2,
     "metadata": {},
     "output_type": "execute_result"
    }
   ],
   "source": [
    "def temp_convert(temp, unit):\n",
    "    \"\"\"This Convert the temperature\"\"\"\n",
    "    if unit.upper() == \"F\":\n",
    "        return (temp - 32) * 5/9\n",
    "    elif unit == \"C\":\n",
    "        return (temp * 9/5) + 32\n",
    "    else:\n",
    "        return \"Invalid input\"\n",
    "\n",
    "unit = input(\"Enter the C/F : \")\n",
    "temp = int(input(\"Enter the temperature: \"))\n",
    "result = temp_convert(temp, unit)\n",
    "print(f\"Converted Temperature: {result}\")"
   ]
  },
  {
   "cell_type": "markdown",
   "id": "dcfa40ab",
   "metadata": {},
   "source": [
    "## Question 2. Passsword Strength checker"
   ]
  },
  {
   "cell_type": "code",
   "execution_count": 8,
   "id": "cc95f543",
   "metadata": {},
   "outputs": [
    {
     "name": "stdout",
     "output_type": "stream",
     "text": [
      "Password is Strong!\n"
     ]
    }
   ],
   "source": [
    "def password_stren(password):\n",
    "    if len(password) < 6:\n",
    "        return \"Password should be greater than 6 characters\"\n",
    "    if not any(char.isdigit() for  char in password):\n",
    "        return \"Atleast one Digit should be there\"\n",
    "    if not any(char.isupper() for char in password):\n",
    "        return \"At least one upper character\"\n",
    "    if not any(char.islower() for char in password):\n",
    "        return \"At least one Lower character\"\n",
    "    if not any(char in '!@#$%^&*' for char in password):\n",
    "        return \"At least one special character\"\n",
    "    else:\n",
    "        return \"Password is Strong!\"\n",
    "    \n",
    "password = input(\"Enter the Password: \")\n",
    "result = password_stren(password)\n",
    "print(result)"
   ]
  },
  {
   "cell_type": "markdown",
   "id": "b33215bb",
   "metadata": {},
   "source": [
    "## Lambda\n"
   ]
  },
  {
   "cell_type": "code",
   "execution_count": 3,
   "id": "cee3fba1",
   "metadata": {},
   "outputs": [
    {
     "data": {
      "text/plain": [
       "[1, 4, 9, 16, 25, 36]"
      ]
     },
     "execution_count": 3,
     "metadata": {},
     "output_type": "execute_result"
    }
   ],
   "source": [
    "## Map() - applies a function to all items in a list\n",
    "numbers = [1,2,3,4,5,6]\n",
    "def square(number):\n",
    "    return number ** 2\n",
    "square(2)\n",
    "\n",
    "##Now a map function\n",
    "list(map(lambda x:x**2, numbers))"
   ]
  },
  {
   "cell_type": "code",
   "execution_count": null,
   "id": "2d89399b",
   "metadata": {},
   "outputs": [],
   "source": []
  }
 ],
 "metadata": {
  "kernelspec": {
   "display_name": "Python 3",
   "language": "python",
   "name": "python3"
  },
  "language_info": {
   "codemirror_mode": {
    "name": "ipython",
    "version": 3
   },
   "file_extension": ".py",
   "mimetype": "text/x-python",
   "name": "python",
   "nbconvert_exporter": "python",
   "pygments_lexer": "ipython3",
   "version": "3.13.5"
  }
 },
 "nbformat": 4,
 "nbformat_minor": 5
}
