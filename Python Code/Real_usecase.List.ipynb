{
 "cells": [
  {
   "cell_type": "markdown",
   "id": "239d8afe",
   "metadata": {},
   "source": [
    "Example 1. Manage a To-Do List"
   ]
  },
  {
   "cell_type": "code",
   "execution_count": 4,
   "id": "ca21802e",
   "metadata": {},
   "outputs": [
    {
     "name": "stdout",
     "output_type": "stream",
     "text": [
      "Don't forget to Walk\n",
      "-To do list remaining\n",
      "Study\n",
      "Chai\n",
      "Dinner\n",
      "Walk after Dinner\n"
     ]
    }
   ],
   "source": [
    "to_do = [\"College\", \"Lunch\", \"Study\", \"Chai\", \"Dinner\"]\n",
    "\n",
    "##Add new items in to do list\n",
    "to_do.append(\"Walk after Dinner\")\n",
    "\n",
    "##remove done task\n",
    "to_do.remove(\"College\")\n",
    "to_do.remove(\"Lunch\")\n",
    "\n",
    "if \"Walk after Dinner\" in to_do:\n",
    "    print(\"Don't forget to Walk\")\n",
    "\n",
    "print(\"-To do list remaining\")\n",
    "for task in to_do:\n",
    "    print(f\"{task}\")\n",
    "\n"
   ]
  },
  {
   "cell_type": "markdown",
   "id": "2a38f73d",
   "metadata": {},
   "source": [
    "Example 2. Average of Grade of Students"
   ]
  },
  {
   "cell_type": "code",
   "execution_count": null,
   "id": "cfff5bda",
   "metadata": {},
   "outputs": [
    {
     "name": "stdout",
     "output_type": "stream",
     "text": [
      "Average Grades: 95.40\n",
      "Highest Grade: 99\n",
      "Lowest Grade: 90\n"
     ]
    }
   ],
   "source": [
    "grades = [90,97,98,93]\n",
    "\n",
    "grades.append(99)\n",
    "\n",
    "#calculating the average of grades of students\n",
    "average = sum(grades) / len(grades)\n",
    "print(f\"Average Grades:{average: .2f}\")\n",
    "\n",
    "#Highest and lowest grade\n",
    "highest = max(grades)\n",
    "lowest = min(grades)\n",
    "print(f\"Highest Grade: {highest}\")\n",
    "print(f\"Lowest Grade: {lowest}\")\n"
   ]
  },
  {
   "cell_type": "markdown",
   "id": "3600a5a3",
   "metadata": {},
   "source": [
    "Example 3. Managing the Inventory"
   ]
  },
  {
   "cell_type": "code",
   "execution_count": 11,
   "id": "88dd00c9",
   "metadata": {},
   "outputs": [
    {
     "name": "stdout",
     "output_type": "stream",
     "text": [
      "Victus is in Inventory\n",
      "-Inventory List:\n",
      "Victus\n",
      "ROG\n",
      "VivoBook\n",
      "LenovoPad\n"
     ]
    }
   ],
   "source": [
    "inventory = [\"Victus\", \"ROG\", \"VivoBook\"]\n",
    "\n",
    "inventory.append(\"LenovoPad\")\n",
    "\n",
    "#checking the items are in stock or not\n",
    "items = input(\"Enter the Product name: \")\n",
    "if items in inventory:\n",
    "    print(f\"{items} is in Inventory\")\n",
    "else:\n",
    "    print(f\"{items} is not in inventory\")\n",
    "\n",
    "print(\"-Inventory List:\")\n",
    "for item in inventory:\n",
    "    print(f\"{item}\")"
   ]
  },
  {
   "cell_type": "markdown",
   "id": "b16fe8d5",
   "metadata": {},
   "source": [
    "Example 4. User feedback and Analyzing"
   ]
  },
  {
   "cell_type": "code",
   "execution_count": 12,
   "id": "efada150",
   "metadata": {},
   "outputs": [
    {
     "name": "stdout",
     "output_type": "stream",
     "text": [
      "Positive Feedback Count: 0\n",
      "-Users Feedback\n",
      "Great\n",
      "Excellence\n",
      "Good Job\n",
      "Great Lecture\n"
     ]
    }
   ],
   "source": [
    "feedback = [\"Great\", \"Excellence\", \"Good Job\"]\n",
    "\n",
    "feedback.append(\"Great Lecture\")\n",
    "\n",
    "positive = sum(1 for comment in feedback if \"Great\" in comment.lower() or \"Excellence\" in comment.lower())\n",
    "print(f\"Positive Feedback Count: {positive}\")\n",
    "\n",
    "print(\"-Users Feedback\")\n",
    "for feed in feedback:\n",
    "    print(feed)"
   ]
  },
  {
   "cell_type": "code",
   "execution_count": null,
   "id": "d881d133",
   "metadata": {},
   "outputs": [],
   "source": []
  }
 ],
 "metadata": {
  "kernelspec": {
   "display_name": "Python 3",
   "language": "python",
   "name": "python3"
  },
  "language_info": {
   "codemirror_mode": {
    "name": "ipython",
    "version": 3
   },
   "file_extension": ".py",
   "mimetype": "text/x-python",
   "name": "python",
   "nbconvert_exporter": "python",
   "pygments_lexer": "ipython3",
   "version": "3.13.5"
  }
 },
 "nbformat": 4,
 "nbformat_minor": 5
}
